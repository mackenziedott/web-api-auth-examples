{
 "cells": [
  {
   "cell_type": "code",
   "execution_count": 17,
   "metadata": {},
   "outputs": [],
   "source": [
    "import tekore as tk\n",
    "client_id = '36fa0971850a45efa9392e5471b59e77'\n",
    "client_secret = '8836fbf7f9e14faaa744ee29a59016b7'\n",
    "app_token = tk.request_client_token(client_id, client_secret)\n"
   ]
  },
  {
   "cell_type": "code",
   "execution_count": 18,
   "metadata": {},
   "outputs": [
    {
     "data": {
      "text/plain": [
       "RefreshingToken(access_token='BQB2QHSR3m1fd1XM7xWAvrZE3-quf9KRWMT59lM62H56pfsgmfBkYdVowdEXak6nZWqJjuYePQGLH10sUJQagNOQSqHu3MuyM5Ta0QQqsT2FbbSbKyY', refresh_token=None, scope=Scope(''))"
      ]
     },
     "execution_count": 18,
     "metadata": {},
     "output_type": "execute_result"
    }
   ],
   "source": [
    "app_token"
   ]
  },
  {
   "cell_type": "code",
   "execution_count": 19,
   "metadata": {},
   "outputs": [
    {
     "name": "stdout",
     "output_type": "stream",
     "text": [
      "1 The Path\n",
      "2 Atlas Stone\n",
      "3 Cockroach King\n",
      "4 In Memoriam\n",
      "5 Because It's There\n",
      "6 Falling Back To Earth\n",
      "7 As Death Embraces\n",
      "8 Pareidolia\n",
      "9 Somebody\n",
      "10 The Path Unbeaten\n",
      "11 Nobody\n"
     ]
    }
   ],
   "source": [
    "spotify = tk.Spotify(app_token)\n",
    "\n",
    "album = spotify.album('3RBULTZJ97bvVzZLpxcB0j')\n",
    "for track in album.tracks.items:\n",
    "    print(track.track_number, track.name)"
   ]
  },
  {
   "cell_type": "code",
   "execution_count": 20,
   "metadata": {},
   "outputs": [
    {
     "name": "stdout",
     "output_type": "stream",
     "text": [
      "Opening browser for Spotify login...\n",
      "Please paste redirect URL: https://example.com/callback?code=AQAAZ74LoireZ7H0btAY-2rKbEqojt717fj2voT3XaPWVL7MUf_AuqqcBjapBv4Avm5C55AjAn_xrdmJjJDPzOBBqxEqyy1hqnxbpkEc7Nn6FYoj2-KSGFRXJfaF_ZwrwZQBPgVbEbsygcemrgoG1_zItkrGn4otZCELCv6A7Hcd2_7saKDNIFt66U8LOz8Y_nPToWvsT3esdWIC2_v0IQYibuUQebAPto92uj0JIRJKR6BVPUWQTSU-VXToTp2Wb7YhikjSw1u6D_IycYAXEtdOHsb_szdcPdtBuGoIy3PynNPp8ti2Uu4_ALbqz1Y68VpM2CM-phU1SBaC1Tgm-T5KU7Yk-dUxwhlByZF_MivKOZqqd7PPHt7-7PdozzqTth2ewn0HVeLE_ghSNHwTu-HiuGJCgYOrIRDUMIpKNaS4Wo6nXd3L_ibgCetP9xhtlNT_elJL2b5t396X_TmjXrZJR0N9rKuuY8DJHg3cniYqugdm107b2eOgPPR1PtbVnHTlQg7bbC9X83rQDoVqvGTlqoATMN2ru2tJsj2w_JsIEjCD-rFDkIEN1Tj6QRtLkAVVZZzhrJaNENWT4jjkkjZnEt6gG0_m_TZkDDv3N1jJa0bwe0h6pJgT4QEefTdfQ7KQA3W6Z5Gr3lcrXicJe3DO9s8W08grp1pMWc4xl3N3Cww&state=27m7JHMcfOfiTrle13xXLH6YS1E4roSEu7FhlV_NJ2I\n"
     ]
    }
   ],
   "source": [
    "redirect_uri = 'https://example.com/callback'\n",
    "\n",
    "user_token = tk.prompt_for_user_token(\n",
    "    client_id,\n",
    "    client_secret,\n",
    "    redirect_uri,\n",
    "    scope=tk.scope.every\n",
    ")"
   ]
  },
  {
   "cell_type": "code",
   "execution_count": 21,
   "metadata": {},
   "outputs": [
    {
     "data": {
      "text/plain": [
       "RefreshingToken(access_token='BQCYVqGCKWlPnIe-06qPzXJiYPEUfXe1XyCRLI20QDjxQHN7It3TiGdkMi5m4g5E7NDroQJEwAdi6W_KRoavRGP0Tix_88lizxo3ZGsbf2_pgcxlBsbf1A1-t-sv63h3fN2ZDo9IrrbLK8XuSKYp6kabfvBKWgORuEZSi4a_crPh4sshAUypVORKABQ8bs6M5i_pqBC9eHOLrOmGqhBNEo2t66wjf3x3MgISQZlnmIct1zAd_3La6e3Zf31G8LMc_0ny28gdxio2S7vCG86aLN1mjFepWsSgx772ODvA6MA08kirkvdpl3vDYLk', refresh_token='AQBTiiDeaed6LGQlrJuJ2Poj_ojFRRL5DtYcVNE9MybPOTGy9K5nNedCqS7Qyt2JSQY8xYid8gpGNgy3MK6ktIuyUj-q8R2tH4wZr_64Bb_kWLrY8r2aRJ4MCyX0weBQhXI', scope=Scope('playlist-modify-private', 'playlist-modify-public', 'playlist-read-collaborative', 'playlist-read-private', 'ugc-image-upload', 'user-follow-modify', 'user-follow-read', 'user-library-modify', 'user-library-read', 'user-modify-playback-state', 'user-read-currently-playing', 'user-read-email', 'user-read-playback-position', 'user-read-playback-state', 'user-read-private', 'user-read-recently-played', 'user-top-read'))"
      ]
     },
     "execution_count": 21,
     "metadata": {},
     "output_type": "execute_result"
    }
   ],
   "source": [
    "user_token"
   ]
  },
  {
   "cell_type": "code",
   "execution_count": 22,
   "metadata": {},
   "outputs": [
    {
     "name": "stdout",
     "output_type": "stream",
     "text": [
      "Move\n",
      "Maps\n",
      "Breathless ft. Michelle Quezada - Regulators Remix\n",
      "Fire for You\n",
      "Get Movin' (Feet Don't Fail Me Now)\n",
      "Love of a Life - Original Mix\n",
      "Lost In The Rhythm\n",
      "We Got U\n",
      "L.O.V.E. (feat. EARTHGANG, Jon Batiste & Sherwyn)\n",
      "My Feelings For You - Mark Knight Remix\n"
     ]
    }
   ],
   "source": [
    "spotify.token = user_token\n",
    "\n",
    "tracks = spotify.current_user_top_tracks(limit=10)\n",
    "for track in tracks.items:\n",
    "    print(track.name)"
   ]
  },
  {
   "cell_type": "code",
   "execution_count": 23,
   "metadata": {},
   "outputs": [
    {
     "data": {
      "text/plain": [
       "ModelList with items: [\n",
       "  FullTrack(album, artists, available_markets, disc_number, ...)\n",
       "  FullTrack(album, artists, available_markets, disc_number, ...)\n",
       "  FullTrack(album, artists, available_markets, disc_number, ...)\n",
       "  FullTrack(album, artists, available_markets, disc_number, ...)\n",
       "  FullTrack(album, artists, available_markets, disc_number, ...)\n",
       "  FullTrack(album, artists, available_markets, disc_number, ...)\n",
       "  FullTrack(album, artists, available_markets, disc_number, ...)\n",
       "  FullTrack(album, artists, available_markets, disc_number, ...)\n",
       "  FullTrack(album, artists, available_markets, disc_number, ...)\n",
       "  FullTrack(album, artists, available_markets, disc_number, ...)\n",
       "]"
      ]
     },
     "execution_count": 23,
     "metadata": {},
     "output_type": "execute_result"
    }
   ],
   "source": [
    "tracks.items"
   ]
  },
  {
   "cell_type": "code",
   "execution_count": 24,
   "metadata": {},
   "outputs": [
    {
     "data": {
      "text/plain": [
       "FullTrack with fields:\n",
       "  album = SimpleAlbum(album_group, album_type, artists, ...)\n",
       "  artists = [1 x SimpleArtist(external_urls, href, id, name, type, uri)]\n",
       "  available_markets = [79 x str]\n",
       "  disc_number = 1\n",
       "  duration_ms = 219986\n",
       "  explicit = False\n",
       "  external_ids = {'isrc'}\n",
       "  external_urls = {'spotify'}\n",
       "  href = 'https://api.spotify.com/v1/tracks/0hDQV9X1Da5JrwhK8gu86p'\n",
       "  id = '0hDQV9X1Da5JrwhK8gu86p'\n",
       "  is_local = False\n",
       "  is_playable = None\n",
       "  linked_from = None\n",
       "  name = 'Maps'\n",
       "  popularity = 67\n",
       "  preview_url = 'https://p.scdn.co/mp3-preview/4d8e056648717bad040b202e...'\n",
       "  restrictions = None\n",
       "  track_number = 9\n",
       "  type = 'track'\n",
       "  uri = 'spotify:track:0hDQV9X1Da5JrwhK8gu86p'"
      ]
     },
     "execution_count": 24,
     "metadata": {},
     "output_type": "execute_result"
    }
   ],
   "source": [
    "exTrack = tracks.items[1]\n",
    "exTrack"
   ]
  },
  {
   "cell_type": "code",
   "execution_count": 25,
   "metadata": {},
   "outputs": [
    {
     "data": {
      "text/plain": [
       "FullTrack with fields:\n",
       "  album = SimpleAlbum(album_group, album_type, artists, ...)\n",
       "  artists = [1 x SimpleArtist(external_urls, href, id, name, type, uri)]\n",
       "  available_markets = [178 x str]\n",
       "  disc_number = 1\n",
       "  duration_ms = 219986\n",
       "  explicit = False\n",
       "  external_ids = {'isrc'}\n",
       "  external_urls = {'spotify'}\n",
       "  href = 'https://api.spotify.com/v1/tracks/0hDQV9X1Da5JrwhK8gu86p'\n",
       "  id = '0hDQV9X1Da5JrwhK8gu86p'\n",
       "  is_local = False\n",
       "  is_playable = None\n",
       "  linked_from = None\n",
       "  name = 'Maps'\n",
       "  popularity = 67\n",
       "  preview_url = 'https://p.scdn.co/mp3-preview/4d8e056648717bad040b202e...'\n",
       "  restrictions = None\n",
       "  track_number = 9\n",
       "  type = 'track'\n",
       "  uri = 'spotify:track:0hDQV9X1Da5JrwhK8gu86p'"
      ]
     },
     "execution_count": 25,
     "metadata": {},
     "output_type": "execute_result"
    }
   ],
   "source": [
    "testTrack = spotify.track(exTrack.id)\n",
    "testTrack"
   ]
  },
  {
   "cell_type": "code",
   "execution_count": 26,
   "metadata": {},
   "outputs": [
    {
     "data": {
      "text/plain": [
       "SimpleAlbum with fields:\n",
       "  album_group = None\n",
       "  album_type = 'album'\n",
       "  artists = [1 x SimpleArtist(external_urls, href, id, name, type, uri)]\n",
       "  available_markets = [178 x str]\n",
       "  external_urls = {'spotify'}\n",
       "  href = 'https://api.spotify.com/v1/albums/44ePwTuWK88vnalqutqJEG'\n",
       "  id = '44ePwTuWK88vnalqutqJEG'\n",
       "  images = [3 x Image(height, url, width)]\n",
       "  is_playable = None\n",
       "  name = 'Fever To Tell (Deluxe Remastered)'\n",
       "  release_date = '2003-04-29'\n",
       "  release_date_precision = 'day'\n",
       "  total_tracks = 29\n",
       "  type = 'album'\n",
       "  uri = 'spotify:album:44ePwTuWK88vnalqutqJEG'"
      ]
     },
     "execution_count": 26,
     "metadata": {},
     "output_type": "execute_result"
    }
   ],
   "source": [
    "testTrack.album"
   ]
  },
  {
   "cell_type": "code",
   "execution_count": 27,
   "metadata": {},
   "outputs": [
    {
     "data": {
      "text/plain": [
       "SimpleArtist with fields:\n",
       "  external_urls = {'spotify'}\n",
       "  href = 'https://api.spotify.com/v1/artists/3TNt4aUIxgfy9aoaft5Jj2'\n",
       "  id = '3TNt4aUIxgfy9aoaft5Jj2'\n",
       "  name = 'Yeah Yeah Yeahs'\n",
       "  type = 'artist'\n",
       "  uri = 'spotify:artist:3TNt4aUIxgfy9aoaft5Jj2'"
      ]
     },
     "execution_count": 27,
     "metadata": {},
     "output_type": "execute_result"
    }
   ],
   "source": [
    "testTrack.artists[0]"
   ]
  },
  {
   "cell_type": "code",
   "execution_count": 28,
   "metadata": {},
   "outputs": [
    {
     "data": {
      "text/plain": [
       "AudioFeatures with fields:\n",
       "  acousticness = 0.000346\n",
       "  analysis_url = 'https://api.spotify.com/v1/audio-analysis/0hDQV9X1Da5...'\n",
       "  danceability = 0.502\n",
       "  duration_ms = 219987\n",
       "  energy = 0.941\n",
       "  id = '0hDQV9X1Da5JrwhK8gu86p'\n",
       "  instrumentalness = 0.319\n",
       "  key = 7\n",
       "  liveness = 0.553\n",
       "  loudness = -5.194\n",
       "  mode = 1\n",
       "  speechiness = 0.0716\n",
       "  tempo = 119.783\n",
       "  time_signature = 4\n",
       "  track_href = 'https://api.spotify.com/v1/tracks/0hDQV9X1Da5JrwhK8gu86p'\n",
       "  type = 'audio_features'\n",
       "  uri = 'spotify:track:0hDQV9X1Da5JrwhK8gu86p'\n",
       "  valence = 0.124"
      ]
     },
     "execution_count": 28,
     "metadata": {},
     "output_type": "execute_result"
    }
   ],
   "source": [
    "spotify.track_audio_features(exTrack.id)"
   ]
  },
  {
   "cell_type": "code",
   "execution_count": 29,
   "metadata": {},
   "outputs": [],
   "source": [
    "import pandas as pd\n",
    "import numpy as np\n"
   ]
  },
  {
   "cell_type": "code",
   "execution_count": 30,
   "metadata": {},
   "outputs": [
    {
     "data": {
      "text/plain": [
       "SimplePlaylistPaging with fields:\n",
       "  href = 'https://api.spotify.com/v1/users/mackrotosh/playlists?offset=...'\n",
       "  items = [20 x SimplePlaylist(collaborative, description, ...)]\n",
       "  limit = 20\n",
       "  next = 'https://api.spotify.com/v1/users/mackrotosh/playlists?offset=...'\n",
       "  offset = 0\n",
       "  previous = None\n",
       "  total = 32"
      ]
     },
     "execution_count": 30,
     "metadata": {},
     "output_type": "execute_result"
    }
   ],
   "source": [
    "playlists = spotify.followed_playlists()\n",
    "playlists"
   ]
  },
  {
   "cell_type": "code",
   "execution_count": 31,
   "metadata": {},
   "outputs": [
    {
     "name": "stdout",
     "output_type": "stream",
     "text": [
      "My Supergroup Mix\n",
      "Your Top Songs 2021\n",
      "Sarah + Mack\n",
      "Quiet Baby\n",
      "Your Top Songs 2020\n",
      "Corona Wedding 2020\n",
      "The Playlist of Life,  the Universe, and Everything Else\n",
      "Release Radar\n",
      "Discover Weekly\n",
      "Your Top Songs 2019\n",
      "GalaxyMusic - All Uploads\n",
      "Bonnaroo 2020 Lineup Mixtape (Official)\n",
      "The Observatory by Seven Lions\n",
      "Turning Leaves\n",
      "ELECTRIC FOREST 2018\n",
      "Fly Wolves\n",
      "MrSuicideSheep Favourites\n",
      "MrSuicideSheep Uploads\n",
      "Swing Swing Dance Dance\n",
      "Fuck Fuck Go Go\n"
     ]
    }
   ],
   "source": [
    "for item in playlists.items:\n",
    "    print(item.\n",
    "          name)"
   ]
  },
  {
   "cell_type": "code",
   "execution_count": 32,
   "metadata": {},
   "outputs": [
    {
     "data": {
      "text/plain": [
       "PlaylistTrackPaging with fields:\n",
       "  href = 'https://api.spotify.com/v1/playlists/3JzP27oTtyrqnyufjLKrKj/t...'\n",
       "  items = [100 x PlaylistTrack(added_at, added_by, is_local, ...)]\n",
       "  limit = 100\n",
       "  next = 'https://api.spotify.com/v1/playlists/3JzP27oTtyrqnyufjLKrKj/t...'\n",
       "  offset = 0\n",
       "  previous = None\n",
       "  total = 1374"
      ]
     },
     "execution_count": 32,
     "metadata": {},
     "output_type": "execute_result"
    }
   ],
   "source": [
    "targetPlaylist = playlists.items[6]\n",
    "spotify.max_limits_on = False\n",
    "playlistTracks = spotify.playlist_items(targetPlaylist.id, limit = 100)\n",
    "playlistTracks"
   ]
  },
  {
   "cell_type": "code",
   "execution_count": 33,
   "metadata": {},
   "outputs": [],
   "source": [
    "%matplotlib inline\n"
   ]
  },
  {
   "cell_type": "code",
   "execution_count": null,
   "metadata": {},
   "outputs": [],
   "source": []
  },
  {
   "cell_type": "code",
   "execution_count": 34,
   "metadata": {},
   "outputs": [
    {
     "data": {
      "text/plain": [
       "PlaylistTrackPaging with fields:\n",
       "  href = 'https://api.spotify.com/v1/playlists/3JzP27oTtyrqnyufjLKrKj/t...'\n",
       "  items = [100 x PlaylistTrack(added_at, added_by, is_local, ...)]\n",
       "  limit = 100\n",
       "  next = 'https://api.spotify.com/v1/playlists/3JzP27oTtyrqnyufjLKrKj/t...'\n",
       "  offset = 0\n",
       "  previous = None\n",
       "  total = 1374"
      ]
     },
     "execution_count": 34,
     "metadata": {},
     "output_type": "execute_result"
    }
   ],
   "source": [
    "playlistTracks = spotify.playlist_items(targetPlaylist.id, limit = 100)\n",
    "totalNumberTracks = playlistTracks.total\n",
    "playlistTracks"
   ]
  },
  {
   "cell_type": "code",
   "execution_count": 47,
   "metadata": {},
   "outputs": [],
   "source": [
    "def addTracktoTrackDF(track):\n",
    "    startDict = {}\n",
    "    AudioAnalysis = spotify.track_audio_analysis(track.id)\n",
    "    AudioFeatures = spotify.track_audio_features(track.id)\n",
    "    trackData = spotify.track(track.id)\n",
    "    albumData = trackData.album\n",
    "    artistSMData = trackData.artists\n",
    "    artistData = spotify.artist(artistsSMdata[0].id)\n",
    "    startDict.update(AudioAnalysis.track)\n",
    "    startDict.pop('codestring') #Useless for now and takes up a lot of real estate\n",
    "    startDict.pop('sample_md5') #Not Sure what this is\n",
    "    startDict.pop('echoprintstring')\n",
    "    startDict.pop('rhythmstring')\n",
    "    startDict.pop('synchstring')\n",
    "    startDict['acousticness'] = AudioFeatures.acousticness\n",
    "    startDict['danceability'] = AudioFeatures.danceability\n",
    "    startDict['energy'] = AudioFeatures.energy\n",
    "    startDict['instrumentalness'] = AudioFeatures.instrumentalness\n",
    "    startDict['key'] = AudioFeatures.key\n",
    "    startDict['liveness'] = AudioFeatures.liveness\n",
    "    startDict['loudness'] = AudioFeatures.loudness\n",
    "    startDict['mode'] = AudioFeatures.mode\n",
    "    startDict['speechiness'] = AudioFeatures.speechiness\n",
    "    startDict['tempo'] = AudioFeatures.tempo\n",
    "    startDict['time_signature']=AudioFeatures.time_signature\n",
    "    startDict['valence'] = AudioFeatures.valence\n",
    "    startDict['id'] = AudioFeatures.id\n",
    "    startDict['albumName'] = albumData.name\n",
    "    startDict['primaryArtist'] = artistData[0].name\n",
    "    df = pd.DataFrame(data = startDict, index = [0])\n",
    "    df['id'] = df['id'].astype('string')\n",
    "    return df"
   ]
  },
  {
   "cell_type": "code",
   "execution_count": 39,
   "metadata": {},
   "outputs": [
    {
     "data": {
      "text/plain": [
       "SimpleArtist with fields:\n",
       "  external_urls = {'spotify'}\n",
       "  href = 'https://api.spotify.com/v1/artists/0X2BH1fck6amBIoJhDVmmJ'\n",
       "  id = '0X2BH1fck6amBIoJhDVmmJ'\n",
       "  name = 'Ellie Goulding'\n",
       "  type = 'artist'\n",
       "  uri = 'spotify:artist:0X2BH1fck6amBIoJhDVmmJ'"
      ]
     },
     "execution_count": 39,
     "metadata": {},
     "output_type": "execute_result"
    }
   ],
   "source": [
    "exTrack = playlistTracks.items[0].track\n",
    "exTrack.artists[0]"
   ]
  },
  {
   "cell_type": "code",
   "execution_count": 82,
   "metadata": {
    "scrolled": true
   },
   "outputs": [
    {
     "name": "stdout",
     "output_type": "stream",
     "text": [
      "<class 'pandas.core.frame.DataFrame'>\n",
      "Int64Index: 1 entries, 0 to 0\n",
      "Data columns (total 29 columns):\n",
      " #   Column                     Non-Null Count  Dtype  \n",
      "---  ------                     --------------  -----  \n",
      " 0   num_samples                1 non-null      int64  \n",
      " 1   duration                   1 non-null      float64\n",
      " 2   offset_seconds             1 non-null      int64  \n",
      " 3   window_seconds             1 non-null      int64  \n",
      " 4   analysis_sample_rate       1 non-null      int64  \n",
      " 5   analysis_channels          1 non-null      int64  \n",
      " 6   end_of_fade_in             1 non-null      float64\n",
      " 7   start_of_fade_out          1 non-null      float64\n",
      " 8   loudness                   1 non-null      float64\n",
      " 9   tempo                      1 non-null      float64\n",
      " 10  tempo_confidence           1 non-null      float64\n",
      " 11  time_signature             1 non-null      int64  \n",
      " 12  time_signature_confidence  1 non-null      float64\n",
      " 13  key                        1 non-null      int64  \n",
      " 14  key_confidence             1 non-null      float64\n",
      " 15  mode                       1 non-null      int64  \n",
      " 16  mode_confidence            1 non-null      float64\n",
      " 17  code_version               1 non-null      float64\n",
      " 18  echoprint_version          1 non-null      float64\n",
      " 19  synch_version              1 non-null      float64\n",
      " 20  rhythm_version             1 non-null      float64\n",
      " 21  acousticness               1 non-null      float64\n",
      " 22  danceability               1 non-null      float64\n",
      " 23  energy                     1 non-null      float64\n",
      " 24  instrumentalness           1 non-null      float64\n",
      " 25  liveness                   1 non-null      float64\n",
      " 26  speechiness                1 non-null      float64\n",
      " 27  valence                    1 non-null      float64\n",
      " 28  id                         1 non-null      string \n",
      "dtypes: float64(20), int64(8), string(1)\n",
      "memory usage: 240.0 bytes\n"
     ]
    }
   ],
   "source": [
    "df = addTracktoTrackDF(exTrack)\n",
    "df.info()"
   ]
  },
  {
   "cell_type": "code",
   "execution_count": 49,
   "metadata": {
    "scrolled": false
   },
   "outputs": [
    {
     "name": "stdout",
     "output_type": "stream",
     "text": [
      "0\n"
     ]
    },
    {
     "ename": "IndexError",
     "evalue": "list index out of range",
     "output_type": "error",
     "traceback": [
      "\u001b[1;31m---------------------------------------------------------------------------\u001b[0m",
      "\u001b[1;31mIndexError\u001b[0m                                Traceback (most recent call last)",
      "Input \u001b[1;32mIn [49]\u001b[0m, in \u001b[0;36m<cell line: 3>\u001b[1;34m()\u001b[0m\n\u001b[0;32m      7\u001b[0m \u001b[38;5;28;01mtry\u001b[39;00m:\n\u001b[0;32m      8\u001b[0m     \u001b[38;5;28;01mif\u001b[39;00m ind \u001b[38;5;241m==\u001b[39m \u001b[38;5;241m0\u001b[39m:\n\u001b[1;32m----> 9\u001b[0m         df_Songs \u001b[38;5;241m=\u001b[39m addTracktoTrackDF(\u001b[43mplaylistTracks\u001b[49m\u001b[38;5;241;43m.\u001b[39;49m\u001b[43mitems\u001b[49m\u001b[43m[\u001b[49m\u001b[43mind\u001b[49m\u001b[38;5;241;43m-\u001b[39;49m\u001b[43mplaylistTracks\u001b[49m\u001b[38;5;241;43m.\u001b[39;49m\u001b[43moffset\u001b[49m\u001b[43m]\u001b[49m\u001b[38;5;241m.\u001b[39mtrack)\n\u001b[0;32m     10\u001b[0m     \u001b[38;5;28;01melse\u001b[39;00m:\n\u001b[0;32m     11\u001b[0m         tempDF \u001b[38;5;241m=\u001b[39m addTracktoTrackDF(playlistTracks\u001b[38;5;241m.\u001b[39mitems[ind\u001b[38;5;241m-\u001b[39mplaylistTracks\u001b[38;5;241m.\u001b[39moffset]\u001b[38;5;241m.\u001b[39mtrack)\n",
      "\u001b[1;31mIndexError\u001b[0m: list index out of range"
     ]
    }
   ],
   "source": [
    "trackind = 0\n",
    "totalDF = pd.DataFrame()\n",
    "for ind in range(totalNumberTracks):\n",
    "    if playlistTracks.offset+100 == ind:\n",
    "        playlistTracks = spotify.next(playlistTracks)\n",
    "        print('paged')\n",
    "    try:\n",
    "        if ind == 0:\n",
    "            df_Songs = addTracktoTrackDF(playlistTracks.items[ind-playlistTracks.offset].track)\n",
    "        else:\n",
    "            tempDF = addTracktoTrackDF(playlistTracks.items[ind-playlistTracks.offset].track)\n",
    "            df_Songs = pd.concat([df_Songs, tempDF], axis = 0)\n",
    "    except:\n",
    "        print(ind)\n",
    "        raise\n",
    "\n",
    "df_Songs"
   ]
  },
  {
   "cell_type": "code",
   "execution_count": 149,
   "metadata": {
    "scrolled": true
   },
   "outputs": [],
   "source": [
    "df_Songs.reset_index(drop = True, inplace = True)\n",
    "df_Songs.drop('index', axis = 1, inplace = True)"
   ]
  },
  {
   "cell_type": "code",
   "execution_count": 150,
   "metadata": {},
   "outputs": [
    {
     "data": {
      "text/html": [
       "<div>\n",
       "<style scoped>\n",
       "    .dataframe tbody tr th:only-of-type {\n",
       "        vertical-align: middle;\n",
       "    }\n",
       "\n",
       "    .dataframe tbody tr th {\n",
       "        vertical-align: top;\n",
       "    }\n",
       "\n",
       "    .dataframe thead th {\n",
       "        text-align: right;\n",
       "    }\n",
       "</style>\n",
       "<table border=\"1\" class=\"dataframe\">\n",
       "  <thead>\n",
       "    <tr style=\"text-align: right;\">\n",
       "      <th></th>\n",
       "      <th>num_samples</th>\n",
       "      <th>duration</th>\n",
       "      <th>offset_seconds</th>\n",
       "      <th>window_seconds</th>\n",
       "      <th>analysis_sample_rate</th>\n",
       "      <th>analysis_channels</th>\n",
       "      <th>end_of_fade_in</th>\n",
       "      <th>start_of_fade_out</th>\n",
       "      <th>loudness</th>\n",
       "      <th>tempo</th>\n",
       "      <th>...</th>\n",
       "      <th>synch_version</th>\n",
       "      <th>rhythm_version</th>\n",
       "      <th>acousticness</th>\n",
       "      <th>danceability</th>\n",
       "      <th>energy</th>\n",
       "      <th>instrumentalness</th>\n",
       "      <th>liveness</th>\n",
       "      <th>speechiness</th>\n",
       "      <th>valence</th>\n",
       "      <th>id</th>\n",
       "    </tr>\n",
       "  </thead>\n",
       "  <tbody>\n",
       "    <tr>\n",
       "      <th>0</th>\n",
       "      <td>5167638</td>\n",
       "      <td>234.36000</td>\n",
       "      <td>0</td>\n",
       "      <td>0</td>\n",
       "      <td>22050</td>\n",
       "      <td>1</td>\n",
       "      <td>4.34213</td>\n",
       "      <td>224.39764</td>\n",
       "      <td>-4.364</td>\n",
       "      <td>127.945</td>\n",
       "      <td>...</td>\n",
       "      <td>1.0</td>\n",
       "      <td>1.0</td>\n",
       "      <td>0.00131</td>\n",
       "      <td>0.596</td>\n",
       "      <td>0.952</td>\n",
       "      <td>0.00000</td>\n",
       "      <td>0.5980</td>\n",
       "      <td>0.0873</td>\n",
       "      <td>0.571</td>\n",
       "      <td>7B1Dl3tXqySkB8OPEwVvSu</td>\n",
       "    </tr>\n",
       "    <tr>\n",
       "      <th>1</th>\n",
       "      <td>4811092</td>\n",
       "      <td>218.19011</td>\n",
       "      <td>0</td>\n",
       "      <td>0</td>\n",
       "      <td>22050</td>\n",
       "      <td>1</td>\n",
       "      <td>3.92998</td>\n",
       "      <td>207.30196</td>\n",
       "      <td>-3.827</td>\n",
       "      <td>126.136</td>\n",
       "      <td>...</td>\n",
       "      <td>1.0</td>\n",
       "      <td>1.0</td>\n",
       "      <td>0.00220</td>\n",
       "      <td>0.583</td>\n",
       "      <td>0.942</td>\n",
       "      <td>0.00325</td>\n",
       "      <td>0.0912</td>\n",
       "      <td>0.0473</td>\n",
       "      <td>0.607</td>\n",
       "      <td>1ztbs9oxLOfYcDr5xL8loQ</td>\n",
       "    </tr>\n",
       "    <tr>\n",
       "      <th>2</th>\n",
       "      <td>6716430</td>\n",
       "      <td>304.60000</td>\n",
       "      <td>0</td>\n",
       "      <td>0</td>\n",
       "      <td>22050</td>\n",
       "      <td>1</td>\n",
       "      <td>0.00000</td>\n",
       "      <td>304.60000</td>\n",
       "      <td>-4.674</td>\n",
       "      <td>88.634</td>\n",
       "      <td>...</td>\n",
       "      <td>1.0</td>\n",
       "      <td>1.0</td>\n",
       "      <td>0.30300</td>\n",
       "      <td>0.867</td>\n",
       "      <td>0.646</td>\n",
       "      <td>0.00000</td>\n",
       "      <td>0.2790</td>\n",
       "      <td>0.2880</td>\n",
       "      <td>0.670</td>\n",
       "      <td>6MdqqkQ8sSC0WB4i8PyRuQ</td>\n",
       "    </tr>\n",
       "    <tr>\n",
       "      <th>3</th>\n",
       "      <td>2674812</td>\n",
       "      <td>121.30667</td>\n",
       "      <td>0</td>\n",
       "      <td>0</td>\n",
       "      <td>22050</td>\n",
       "      <td>1</td>\n",
       "      <td>0.19664</td>\n",
       "      <td>118.21279</td>\n",
       "      <td>-7.510</td>\n",
       "      <td>129.715</td>\n",
       "      <td>...</td>\n",
       "      <td>1.0</td>\n",
       "      <td>1.0</td>\n",
       "      <td>0.00211</td>\n",
       "      <td>0.658</td>\n",
       "      <td>0.726</td>\n",
       "      <td>0.00229</td>\n",
       "      <td>0.0922</td>\n",
       "      <td>0.0856</td>\n",
       "      <td>0.874</td>\n",
       "      <td>4F64QXRV1EGHSm5jIeMmcQ</td>\n",
       "    </tr>\n",
       "    <tr>\n",
       "      <th>4</th>\n",
       "      <td>5227908</td>\n",
       "      <td>237.09332</td>\n",
       "      <td>0</td>\n",
       "      <td>0</td>\n",
       "      <td>22050</td>\n",
       "      <td>1</td>\n",
       "      <td>0.09293</td>\n",
       "      <td>222.77225</td>\n",
       "      <td>-6.271</td>\n",
       "      <td>95.018</td>\n",
       "      <td>...</td>\n",
       "      <td>1.0</td>\n",
       "      <td>1.0</td>\n",
       "      <td>0.00328</td>\n",
       "      <td>0.614</td>\n",
       "      <td>0.752</td>\n",
       "      <td>0.00000</td>\n",
       "      <td>0.3790</td>\n",
       "      <td>0.0652</td>\n",
       "      <td>0.444</td>\n",
       "      <td>1Ckd4d6vkhvOp5HlAc5Ie2</td>\n",
       "    </tr>\n",
       "  </tbody>\n",
       "</table>\n",
       "<p>5 rows × 29 columns</p>\n",
       "</div>"
      ],
      "text/plain": [
       "   num_samples   duration  offset_seconds  window_seconds  \\\n",
       "0      5167638  234.36000               0               0   \n",
       "1      4811092  218.19011               0               0   \n",
       "2      6716430  304.60000               0               0   \n",
       "3      2674812  121.30667               0               0   \n",
       "4      5227908  237.09332               0               0   \n",
       "\n",
       "   analysis_sample_rate  analysis_channels  end_of_fade_in  start_of_fade_out  \\\n",
       "0                 22050                  1         4.34213          224.39764   \n",
       "1                 22050                  1         3.92998          207.30196   \n",
       "2                 22050                  1         0.00000          304.60000   \n",
       "3                 22050                  1         0.19664          118.21279   \n",
       "4                 22050                  1         0.09293          222.77225   \n",
       "\n",
       "   loudness    tempo  ...  synch_version  rhythm_version  acousticness  \\\n",
       "0    -4.364  127.945  ...            1.0             1.0       0.00131   \n",
       "1    -3.827  126.136  ...            1.0             1.0       0.00220   \n",
       "2    -4.674   88.634  ...            1.0             1.0       0.30300   \n",
       "3    -7.510  129.715  ...            1.0             1.0       0.00211   \n",
       "4    -6.271   95.018  ...            1.0             1.0       0.00328   \n",
       "\n",
       "   danceability  energy  instrumentalness  liveness  speechiness  valence  \\\n",
       "0         0.596   0.952           0.00000    0.5980       0.0873    0.571   \n",
       "1         0.583   0.942           0.00325    0.0912       0.0473    0.607   \n",
       "2         0.867   0.646           0.00000    0.2790       0.2880    0.670   \n",
       "3         0.658   0.726           0.00229    0.0922       0.0856    0.874   \n",
       "4         0.614   0.752           0.00000    0.3790       0.0652    0.444   \n",
       "\n",
       "                       id  \n",
       "0  7B1Dl3tXqySkB8OPEwVvSu  \n",
       "1  1ztbs9oxLOfYcDr5xL8loQ  \n",
       "2  6MdqqkQ8sSC0WB4i8PyRuQ  \n",
       "3  4F64QXRV1EGHSm5jIeMmcQ  \n",
       "4  1Ckd4d6vkhvOp5HlAc5Ie2  \n",
       "\n",
       "[5 rows x 29 columns]"
      ]
     },
     "execution_count": 150,
     "metadata": {},
     "output_type": "execute_result"
    }
   ],
   "source": [
    "df_Songs.head()"
   ]
  },
  {
   "cell_type": "code",
   "execution_count": 157,
   "metadata": {},
   "outputs": [],
   "source": [
    "df_Songs.to_csv('MackPlaylistSongs.csv', index = False, header = True)"
   ]
  },
  {
   "cell_type": "code",
   "execution_count": 159,
   "metadata": {},
   "outputs": [
    {
     "data": {
      "text/html": [
       "<div>\n",
       "<style scoped>\n",
       "    .dataframe tbody tr th:only-of-type {\n",
       "        vertical-align: middle;\n",
       "    }\n",
       "\n",
       "    .dataframe tbody tr th {\n",
       "        vertical-align: top;\n",
       "    }\n",
       "\n",
       "    .dataframe thead th {\n",
       "        text-align: right;\n",
       "    }\n",
       "</style>\n",
       "<table border=\"1\" class=\"dataframe\">\n",
       "  <thead>\n",
       "    <tr style=\"text-align: right;\">\n",
       "      <th></th>\n",
       "      <th>num_samples</th>\n",
       "      <th>duration</th>\n",
       "      <th>offset_seconds</th>\n",
       "      <th>window_seconds</th>\n",
       "      <th>analysis_sample_rate</th>\n",
       "      <th>analysis_channels</th>\n",
       "      <th>end_of_fade_in</th>\n",
       "      <th>start_of_fade_out</th>\n",
       "      <th>loudness</th>\n",
       "      <th>tempo</th>\n",
       "      <th>...</th>\n",
       "      <th>synch_version</th>\n",
       "      <th>rhythm_version</th>\n",
       "      <th>acousticness</th>\n",
       "      <th>danceability</th>\n",
       "      <th>energy</th>\n",
       "      <th>instrumentalness</th>\n",
       "      <th>liveness</th>\n",
       "      <th>speechiness</th>\n",
       "      <th>valence</th>\n",
       "      <th>id</th>\n",
       "    </tr>\n",
       "  </thead>\n",
       "  <tbody>\n",
       "    <tr>\n",
       "      <th>0</th>\n",
       "      <td>5167638</td>\n",
       "      <td>234.36000</td>\n",
       "      <td>0</td>\n",
       "      <td>0</td>\n",
       "      <td>22050</td>\n",
       "      <td>1</td>\n",
       "      <td>4.34213</td>\n",
       "      <td>224.39764</td>\n",
       "      <td>-4.364</td>\n",
       "      <td>127.945</td>\n",
       "      <td>...</td>\n",
       "      <td>1.0</td>\n",
       "      <td>1.0</td>\n",
       "      <td>0.00131</td>\n",
       "      <td>0.596</td>\n",
       "      <td>0.952</td>\n",
       "      <td>0.000000</td>\n",
       "      <td>0.5980</td>\n",
       "      <td>0.0873</td>\n",
       "      <td>0.571</td>\n",
       "      <td>7B1Dl3tXqySkB8OPEwVvSu</td>\n",
       "    </tr>\n",
       "    <tr>\n",
       "      <th>1</th>\n",
       "      <td>4811092</td>\n",
       "      <td>218.19011</td>\n",
       "      <td>0</td>\n",
       "      <td>0</td>\n",
       "      <td>22050</td>\n",
       "      <td>1</td>\n",
       "      <td>3.92998</td>\n",
       "      <td>207.30196</td>\n",
       "      <td>-3.827</td>\n",
       "      <td>126.136</td>\n",
       "      <td>...</td>\n",
       "      <td>1.0</td>\n",
       "      <td>1.0</td>\n",
       "      <td>0.00220</td>\n",
       "      <td>0.583</td>\n",
       "      <td>0.942</td>\n",
       "      <td>0.003250</td>\n",
       "      <td>0.0912</td>\n",
       "      <td>0.0473</td>\n",
       "      <td>0.607</td>\n",
       "      <td>1ztbs9oxLOfYcDr5xL8loQ</td>\n",
       "    </tr>\n",
       "    <tr>\n",
       "      <th>2</th>\n",
       "      <td>6716430</td>\n",
       "      <td>304.60000</td>\n",
       "      <td>0</td>\n",
       "      <td>0</td>\n",
       "      <td>22050</td>\n",
       "      <td>1</td>\n",
       "      <td>0.00000</td>\n",
       "      <td>304.60000</td>\n",
       "      <td>-4.674</td>\n",
       "      <td>88.634</td>\n",
       "      <td>...</td>\n",
       "      <td>1.0</td>\n",
       "      <td>1.0</td>\n",
       "      <td>0.30300</td>\n",
       "      <td>0.867</td>\n",
       "      <td>0.646</td>\n",
       "      <td>0.000000</td>\n",
       "      <td>0.2790</td>\n",
       "      <td>0.2880</td>\n",
       "      <td>0.670</td>\n",
       "      <td>6MdqqkQ8sSC0WB4i8PyRuQ</td>\n",
       "    </tr>\n",
       "    <tr>\n",
       "      <th>3</th>\n",
       "      <td>2674812</td>\n",
       "      <td>121.30667</td>\n",
       "      <td>0</td>\n",
       "      <td>0</td>\n",
       "      <td>22050</td>\n",
       "      <td>1</td>\n",
       "      <td>0.19664</td>\n",
       "      <td>118.21279</td>\n",
       "      <td>-7.510</td>\n",
       "      <td>129.715</td>\n",
       "      <td>...</td>\n",
       "      <td>1.0</td>\n",
       "      <td>1.0</td>\n",
       "      <td>0.00211</td>\n",
       "      <td>0.658</td>\n",
       "      <td>0.726</td>\n",
       "      <td>0.002290</td>\n",
       "      <td>0.0922</td>\n",
       "      <td>0.0856</td>\n",
       "      <td>0.874</td>\n",
       "      <td>4F64QXRV1EGHSm5jIeMmcQ</td>\n",
       "    </tr>\n",
       "    <tr>\n",
       "      <th>4</th>\n",
       "      <td>5227908</td>\n",
       "      <td>237.09332</td>\n",
       "      <td>0</td>\n",
       "      <td>0</td>\n",
       "      <td>22050</td>\n",
       "      <td>1</td>\n",
       "      <td>0.09293</td>\n",
       "      <td>222.77225</td>\n",
       "      <td>-6.271</td>\n",
       "      <td>95.018</td>\n",
       "      <td>...</td>\n",
       "      <td>1.0</td>\n",
       "      <td>1.0</td>\n",
       "      <td>0.00328</td>\n",
       "      <td>0.614</td>\n",
       "      <td>0.752</td>\n",
       "      <td>0.000000</td>\n",
       "      <td>0.3790</td>\n",
       "      <td>0.0652</td>\n",
       "      <td>0.444</td>\n",
       "      <td>1Ckd4d6vkhvOp5HlAc5Ie2</td>\n",
       "    </tr>\n",
       "    <tr>\n",
       "      <th>...</th>\n",
       "      <td>...</td>\n",
       "      <td>...</td>\n",
       "      <td>...</td>\n",
       "      <td>...</td>\n",
       "      <td>...</td>\n",
       "      <td>...</td>\n",
       "      <td>...</td>\n",
       "      <td>...</td>\n",
       "      <td>...</td>\n",
       "      <td>...</td>\n",
       "      <td>...</td>\n",
       "      <td>...</td>\n",
       "      <td>...</td>\n",
       "      <td>...</td>\n",
       "      <td>...</td>\n",
       "      <td>...</td>\n",
       "      <td>...</td>\n",
       "      <td>...</td>\n",
       "      <td>...</td>\n",
       "      <td>...</td>\n",
       "      <td>...</td>\n",
       "    </tr>\n",
       "    <tr>\n",
       "      <th>1369</th>\n",
       "      <td>4299750</td>\n",
       "      <td>195.00000</td>\n",
       "      <td>0</td>\n",
       "      <td>0</td>\n",
       "      <td>22050</td>\n",
       "      <td>1</td>\n",
       "      <td>2.04336</td>\n",
       "      <td>185.75964</td>\n",
       "      <td>-5.481</td>\n",
       "      <td>127.998</td>\n",
       "      <td>...</td>\n",
       "      <td>1.0</td>\n",
       "      <td>1.0</td>\n",
       "      <td>0.02270</td>\n",
       "      <td>0.717</td>\n",
       "      <td>0.909</td>\n",
       "      <td>0.006400</td>\n",
       "      <td>0.1890</td>\n",
       "      <td>0.0709</td>\n",
       "      <td>0.585</td>\n",
       "      <td>2soUC2CP7aY7lEbSUdq2ny</td>\n",
       "    </tr>\n",
       "    <tr>\n",
       "      <th>1370</th>\n",
       "      <td>5055685</td>\n",
       "      <td>229.28278</td>\n",
       "      <td>0</td>\n",
       "      <td>0</td>\n",
       "      <td>22050</td>\n",
       "      <td>1</td>\n",
       "      <td>0.12753</td>\n",
       "      <td>229.28276</td>\n",
       "      <td>-6.338</td>\n",
       "      <td>125.975</td>\n",
       "      <td>...</td>\n",
       "      <td>1.0</td>\n",
       "      <td>1.0</td>\n",
       "      <td>0.27600</td>\n",
       "      <td>0.810</td>\n",
       "      <td>0.733</td>\n",
       "      <td>0.000007</td>\n",
       "      <td>0.2880</td>\n",
       "      <td>0.0444</td>\n",
       "      <td>0.900</td>\n",
       "      <td>5lfWrciYtohtIMVDVZd0Rf</td>\n",
       "    </tr>\n",
       "    <tr>\n",
       "      <th>1371</th>\n",
       "      <td>4950575</td>\n",
       "      <td>224.51587</td>\n",
       "      <td>0</td>\n",
       "      <td>0</td>\n",
       "      <td>22050</td>\n",
       "      <td>1</td>\n",
       "      <td>0.00000</td>\n",
       "      <td>219.31247</td>\n",
       "      <td>-4.216</td>\n",
       "      <td>124.003</td>\n",
       "      <td>...</td>\n",
       "      <td>1.0</td>\n",
       "      <td>1.0</td>\n",
       "      <td>0.00550</td>\n",
       "      <td>0.728</td>\n",
       "      <td>0.950</td>\n",
       "      <td>0.003860</td>\n",
       "      <td>0.3300</td>\n",
       "      <td>0.0977</td>\n",
       "      <td>0.812</td>\n",
       "      <td>2hLczPN5CH5qhc6J4WBJHs</td>\n",
       "    </tr>\n",
       "    <tr>\n",
       "      <th>1372</th>\n",
       "      <td>4249476</td>\n",
       "      <td>192.72000</td>\n",
       "      <td>0</td>\n",
       "      <td>0</td>\n",
       "      <td>22050</td>\n",
       "      <td>1</td>\n",
       "      <td>0.00000</td>\n",
       "      <td>192.72000</td>\n",
       "      <td>-3.202</td>\n",
       "      <td>100.100</td>\n",
       "      <td>...</td>\n",
       "      <td>1.0</td>\n",
       "      <td>1.0</td>\n",
       "      <td>0.02270</td>\n",
       "      <td>0.490</td>\n",
       "      <td>0.914</td>\n",
       "      <td>0.000000</td>\n",
       "      <td>0.7930</td>\n",
       "      <td>0.1670</td>\n",
       "      <td>0.241</td>\n",
       "      <td>4PTPZeJlK1rYlYr6bf11hk</td>\n",
       "    </tr>\n",
       "    <tr>\n",
       "      <th>1373</th>\n",
       "      <td>7859796</td>\n",
       "      <td>356.45334</td>\n",
       "      <td>0</td>\n",
       "      <td>0</td>\n",
       "      <td>22050</td>\n",
       "      <td>1</td>\n",
       "      <td>1.17478</td>\n",
       "      <td>346.62167</td>\n",
       "      <td>-8.953</td>\n",
       "      <td>85.962</td>\n",
       "      <td>...</td>\n",
       "      <td>1.0</td>\n",
       "      <td>1.0</td>\n",
       "      <td>0.10600</td>\n",
       "      <td>0.608</td>\n",
       "      <td>0.680</td>\n",
       "      <td>0.934000</td>\n",
       "      <td>0.3100</td>\n",
       "      <td>0.0818</td>\n",
       "      <td>0.419</td>\n",
       "      <td>0Dz49qemTOjX9RcPZzIl2q</td>\n",
       "    </tr>\n",
       "  </tbody>\n",
       "</table>\n",
       "<p>1374 rows × 29 columns</p>\n",
       "</div>"
      ],
      "text/plain": [
       "      num_samples   duration  offset_seconds  window_seconds  \\\n",
       "0         5167638  234.36000               0               0   \n",
       "1         4811092  218.19011               0               0   \n",
       "2         6716430  304.60000               0               0   \n",
       "3         2674812  121.30667               0               0   \n",
       "4         5227908  237.09332               0               0   \n",
       "...           ...        ...             ...             ...   \n",
       "1369      4299750  195.00000               0               0   \n",
       "1370      5055685  229.28278               0               0   \n",
       "1371      4950575  224.51587               0               0   \n",
       "1372      4249476  192.72000               0               0   \n",
       "1373      7859796  356.45334               0               0   \n",
       "\n",
       "      analysis_sample_rate  analysis_channels  end_of_fade_in  \\\n",
       "0                    22050                  1         4.34213   \n",
       "1                    22050                  1         3.92998   \n",
       "2                    22050                  1         0.00000   \n",
       "3                    22050                  1         0.19664   \n",
       "4                    22050                  1         0.09293   \n",
       "...                    ...                ...             ...   \n",
       "1369                 22050                  1         2.04336   \n",
       "1370                 22050                  1         0.12753   \n",
       "1371                 22050                  1         0.00000   \n",
       "1372                 22050                  1         0.00000   \n",
       "1373                 22050                  1         1.17478   \n",
       "\n",
       "      start_of_fade_out  loudness    tempo  ...  synch_version  \\\n",
       "0             224.39764    -4.364  127.945  ...            1.0   \n",
       "1             207.30196    -3.827  126.136  ...            1.0   \n",
       "2             304.60000    -4.674   88.634  ...            1.0   \n",
       "3             118.21279    -7.510  129.715  ...            1.0   \n",
       "4             222.77225    -6.271   95.018  ...            1.0   \n",
       "...                 ...       ...      ...  ...            ...   \n",
       "1369          185.75964    -5.481  127.998  ...            1.0   \n",
       "1370          229.28276    -6.338  125.975  ...            1.0   \n",
       "1371          219.31247    -4.216  124.003  ...            1.0   \n",
       "1372          192.72000    -3.202  100.100  ...            1.0   \n",
       "1373          346.62167    -8.953   85.962  ...            1.0   \n",
       "\n",
       "      rhythm_version  acousticness  danceability  energy  instrumentalness  \\\n",
       "0                1.0       0.00131         0.596   0.952          0.000000   \n",
       "1                1.0       0.00220         0.583   0.942          0.003250   \n",
       "2                1.0       0.30300         0.867   0.646          0.000000   \n",
       "3                1.0       0.00211         0.658   0.726          0.002290   \n",
       "4                1.0       0.00328         0.614   0.752          0.000000   \n",
       "...              ...           ...           ...     ...               ...   \n",
       "1369             1.0       0.02270         0.717   0.909          0.006400   \n",
       "1370             1.0       0.27600         0.810   0.733          0.000007   \n",
       "1371             1.0       0.00550         0.728   0.950          0.003860   \n",
       "1372             1.0       0.02270         0.490   0.914          0.000000   \n",
       "1373             1.0       0.10600         0.608   0.680          0.934000   \n",
       "\n",
       "      liveness  speechiness  valence                      id  \n",
       "0       0.5980       0.0873    0.571  7B1Dl3tXqySkB8OPEwVvSu  \n",
       "1       0.0912       0.0473    0.607  1ztbs9oxLOfYcDr5xL8loQ  \n",
       "2       0.2790       0.2880    0.670  6MdqqkQ8sSC0WB4i8PyRuQ  \n",
       "3       0.0922       0.0856    0.874  4F64QXRV1EGHSm5jIeMmcQ  \n",
       "4       0.3790       0.0652    0.444  1Ckd4d6vkhvOp5HlAc5Ie2  \n",
       "...        ...          ...      ...                     ...  \n",
       "1369    0.1890       0.0709    0.585  2soUC2CP7aY7lEbSUdq2ny  \n",
       "1370    0.2880       0.0444    0.900  5lfWrciYtohtIMVDVZd0Rf  \n",
       "1371    0.3300       0.0977    0.812  2hLczPN5CH5qhc6J4WBJHs  \n",
       "1372    0.7930       0.1670    0.241  4PTPZeJlK1rYlYr6bf11hk  \n",
       "1373    0.3100       0.0818    0.419  0Dz49qemTOjX9RcPZzIl2q  \n",
       "\n",
       "[1374 rows x 29 columns]"
      ]
     },
     "execution_count": 159,
     "metadata": {},
     "output_type": "execute_result"
    }
   ],
   "source": [
    "df_Songs_Test = pd.read_csv('MackPlaylistSongs.csv')\n",
    "df_Songs_Test"
   ]
  },
  {
   "cell_type": "code",
   "execution_count": 156,
   "metadata": {},
   "outputs": [
    {
     "data": {
      "text/plain": [
       "RangeIndex(start=0, stop=1374, step=1)"
      ]
     },
     "execution_count": 156,
     "metadata": {},
     "output_type": "execute_result"
    }
   ],
   "source": [
    "df_Songs.index"
   ]
  },
  {
   "cell_type": "code",
   "execution_count": 126,
   "metadata": {
    "scrolled": true
   },
   "outputs": [
    {
     "data": {
      "text/plain": [
       "FullPlaylistTrack with fields:\n",
       "  album = SimpleAlbum(album_group, album_type, artists, ...)\n",
       "  artists = [1 x SimpleArtist(external_urls, href, id, name, type, uri)]\n",
       "  available_markets = [0 x str]\n",
       "  disc_number = 1\n",
       "  duration_ms = 352000\n",
       "  episode = False\n",
       "  explicit = False\n",
       "  external_ids = {'isrc'}\n",
       "  external_urls = {'spotify'}\n",
       "  href = 'https://api.spotify.com/v1/tracks/6WLeelhUYx8GaWZ0dGIuLJ'\n",
       "  id = '6WLeelhUYx8GaWZ0dGIuLJ'\n",
       "  is_local = False\n",
       "  is_playable = None\n",
       "  linked_from = None\n",
       "  name = 'Drive It Like You Stole It'\n",
       "  popularity = 0\n",
       "  preview_url = None\n",
       "  restrictions = None\n",
       "  track = True\n",
       "  track_number = 1\n",
       "  type = 'track'\n",
       "  uri = 'spotify:track:6WLeelhUYx8GaWZ0dGIuLJ'"
      ]
     },
     "execution_count": 126,
     "metadata": {},
     "output_type": "execute_result"
    }
   ],
   "source": [
    "tempTrack = playlistTracks.items[28].track\n",
    "tempTrack\n"
   ]
  },
  {
   "cell_type": "code",
   "execution_count": 127,
   "metadata": {},
   "outputs": [
    {
     "ename": "NotFound",
     "evalue": "Error in https://api.spotify.com/v1/audio-analysis/6WLeelhUYx8GaWZ0dGIuLJ:\n404: analysis not found\n",
     "output_type": "error",
     "traceback": [
      "\u001b[1;31m---------------------------------------------------------------------------\u001b[0m",
      "\u001b[1;31mNotFound\u001b[0m                                  Traceback (most recent call last)",
      "Input \u001b[1;32mIn [127]\u001b[0m, in \u001b[0;36m<cell line: 1>\u001b[1;34m()\u001b[0m\n\u001b[1;32m----> 1\u001b[0m AudioAnalysis \u001b[38;5;241m=\u001b[39m \u001b[43mspotify\u001b[49m\u001b[38;5;241;43m.\u001b[39;49m\u001b[43mtrack_audio_analysis\u001b[49m\u001b[43m(\u001b[49m\u001b[43mtempTrack\u001b[49m\u001b[38;5;241;43m.\u001b[39;49m\u001b[43mid\u001b[49m\u001b[43m)\u001b[49m\n\u001b[0;32m      2\u001b[0m AudioAnalysis\u001b[38;5;241m.\u001b[39mtrack\n\u001b[0;32m      3\u001b[0m AudioFeatures \u001b[38;5;241m=\u001b[39m spotify\u001b[38;5;241m.\u001b[39mtrack_audio_features(tempTrack\u001b[38;5;241m.\u001b[39mid)\n",
      "File \u001b[1;32m~\\anaconda3\\envs\\spotifyPlay\\lib\\site-packages\\tekore\\_sender\\client.py:79\u001b[0m, in \u001b[0;36msend_and_process.<locals>.decorator.<locals>.wrapper\u001b[1;34m(self, *args, **kwargs)\u001b[0m\n\u001b[0;32m     76\u001b[0m     \u001b[38;5;28;01mreturn\u001b[39;00m async_send(\u001b[38;5;28mself\u001b[39m, request, params)\n\u001b[0;32m     78\u001b[0m response \u001b[38;5;241m=\u001b[39m \u001b[38;5;28mself\u001b[39m\u001b[38;5;241m.\u001b[39msend(request)\n\u001b[1;32m---> 79\u001b[0m \u001b[38;5;28;01mreturn\u001b[39;00m \u001b[43mpost_func\u001b[49m\u001b[43m(\u001b[49m\u001b[43mrequest\u001b[49m\u001b[43m,\u001b[49m\u001b[43m \u001b[49m\u001b[43mresponse\u001b[49m\u001b[43m,\u001b[49m\u001b[43m \u001b[49m\u001b[38;5;241;43m*\u001b[39;49m\u001b[43mparams\u001b[49m\u001b[43m)\u001b[49m\n",
      "File \u001b[1;32m~\\anaconda3\\envs\\spotifyPlay\\lib\\site-packages\\tekore\\_client\\decor\\__init__.py:19\u001b[0m, in \u001b[0;36msend_and_process.<locals>.parse_response\u001b[1;34m(request, response)\u001b[0m\n\u001b[0;32m     18\u001b[0m \u001b[38;5;28;01mdef\u001b[39;00m \u001b[38;5;21mparse_response\u001b[39m(request, response):\n\u001b[1;32m---> 19\u001b[0m     \u001b[43mhandle_errors\u001b[49m\u001b[43m(\u001b[49m\u001b[43mrequest\u001b[49m\u001b[43m,\u001b[49m\u001b[43m \u001b[49m\u001b[43mresponse\u001b[49m\u001b[43m)\u001b[49m\n\u001b[0;32m     20\u001b[0m     \u001b[38;5;28;01mreturn\u001b[39;00m post_func(response\u001b[38;5;241m.\u001b[39mcontent)\n",
      "File \u001b[1;32m~\\anaconda3\\envs\\spotifyPlay\\lib\\site-packages\\tekore\\_client\\decor\\handle.py:33\u001b[0m, in \u001b[0;36mhandle_errors\u001b[1;34m(request, response)\u001b[0m\n\u001b[0;32m     27\u001b[0m error_str \u001b[38;5;241m=\u001b[39m error_format\u001b[38;5;241m.\u001b[39mformat(\n\u001b[0;32m     28\u001b[0m     url\u001b[38;5;241m=\u001b[39mresponse\u001b[38;5;241m.\u001b[39murl,\n\u001b[0;32m     29\u001b[0m     code\u001b[38;5;241m=\u001b[39mresponse\u001b[38;5;241m.\u001b[39mstatus_code,\n\u001b[0;32m     30\u001b[0m     msg\u001b[38;5;241m=\u001b[39mparse_error_reason(response)\n\u001b[0;32m     31\u001b[0m )\n\u001b[0;32m     32\u001b[0m error_cls \u001b[38;5;241m=\u001b[39m get_error(response\u001b[38;5;241m.\u001b[39mstatus_code)\n\u001b[1;32m---> 33\u001b[0m \u001b[38;5;28;01mraise\u001b[39;00m error_cls(error_str, request\u001b[38;5;241m=\u001b[39mrequest, response\u001b[38;5;241m=\u001b[39mresponse)\n",
      "\u001b[1;31mNotFound\u001b[0m: Error in https://api.spotify.com/v1/audio-analysis/6WLeelhUYx8GaWZ0dGIuLJ:\n404: analysis not found\n"
     ]
    }
   ],
   "source": [
    "AudioAnalysis = spotify.track_audio_analysis(tempTrack.id)\n",
    "AudioAnalysis.track\n",
    "AudioFeatures = spotify.track_audio_features(tempTrack.id)\n",
    "AudioFeatures"
   ]
  },
  {
   "cell_type": "code",
   "execution_count": 101,
   "metadata": {},
   "outputs": [
    {
     "data": {
      "text/html": [
       "<div>\n",
       "<style scoped>\n",
       "    .dataframe tbody tr th:only-of-type {\n",
       "        vertical-align: middle;\n",
       "    }\n",
       "\n",
       "    .dataframe tbody tr th {\n",
       "        vertical-align: top;\n",
       "    }\n",
       "\n",
       "    .dataframe thead th {\n",
       "        text-align: right;\n",
       "    }\n",
       "</style>\n",
       "<table border=\"1\" class=\"dataframe\">\n",
       "  <thead>\n",
       "    <tr style=\"text-align: right;\">\n",
       "      <th></th>\n",
       "      <th>num_samples</th>\n",
       "      <th>duration</th>\n",
       "      <th>offset_seconds</th>\n",
       "      <th>window_seconds</th>\n",
       "      <th>analysis_sample_rate</th>\n",
       "      <th>analysis_channels</th>\n",
       "      <th>end_of_fade_in</th>\n",
       "      <th>start_of_fade_out</th>\n",
       "      <th>loudness</th>\n",
       "      <th>tempo</th>\n",
       "      <th>...</th>\n",
       "      <th>synch_version</th>\n",
       "      <th>rhythm_version</th>\n",
       "      <th>acousticness</th>\n",
       "      <th>danceability</th>\n",
       "      <th>energy</th>\n",
       "      <th>instrumentalness</th>\n",
       "      <th>liveness</th>\n",
       "      <th>speechiness</th>\n",
       "      <th>valence</th>\n",
       "      <th>id</th>\n",
       "    </tr>\n",
       "  </thead>\n",
       "  <tbody>\n",
       "    <tr>\n",
       "      <th>0</th>\n",
       "      <td>6098148</td>\n",
       "      <td>276.56</td>\n",
       "      <td>0</td>\n",
       "      <td>0</td>\n",
       "      <td>22050</td>\n",
       "      <td>1</td>\n",
       "      <td>0.26694</td>\n",
       "      <td>267.1688</td>\n",
       "      <td>-4.877</td>\n",
       "      <td>140.015</td>\n",
       "      <td>...</td>\n",
       "      <td>1.0</td>\n",
       "      <td>1.0</td>\n",
       "      <td>0.00356</td>\n",
       "      <td>0.528</td>\n",
       "      <td>0.775</td>\n",
       "      <td>0.542</td>\n",
       "      <td>0.778</td>\n",
       "      <td>0.0285</td>\n",
       "      <td>0.261</td>\n",
       "      <td>3nPpCn5nYTMg0ajmzv57Jq</td>\n",
       "    </tr>\n",
       "  </tbody>\n",
       "</table>\n",
       "<p>1 rows × 29 columns</p>\n",
       "</div>"
      ],
      "text/plain": [
       "   num_samples  duration  offset_seconds  window_seconds  \\\n",
       "0      6098148    276.56               0               0   \n",
       "\n",
       "   analysis_sample_rate  analysis_channels  end_of_fade_in  start_of_fade_out  \\\n",
       "0                 22050                  1         0.26694           267.1688   \n",
       "\n",
       "   loudness    tempo  ...  synch_version  rhythm_version  acousticness  \\\n",
       "0    -4.877  140.015  ...            1.0             1.0       0.00356   \n",
       "\n",
       "   danceability  energy  instrumentalness  liveness  speechiness  valence  \\\n",
       "0         0.528   0.775             0.542     0.778       0.0285    0.261   \n",
       "\n",
       "                       id  \n",
       "0  3nPpCn5nYTMg0ajmzv57Jq  \n",
       "\n",
       "[1 rows x 29 columns]"
      ]
     },
     "execution_count": 101,
     "metadata": {},
     "output_type": "execute_result"
    }
   ],
   "source": [
    "df_Songs"
   ]
  },
  {
   "cell_type": "code",
   "execution_count": 62,
   "metadata": {},
   "outputs": [
    {
     "data": {
      "text/plain": [
       "PlaylistTrackPaging with fields:\n",
       "  href = 'https://api.spotify.com/v1/playlists/3JzP27oTtyrqnyufjLKrKj/t...'\n",
       "  items = [100 x PlaylistTrack(added_at, added_by, is_local, ...)]\n",
       "  limit = 100\n",
       "  next = 'https://api.spotify.com/v1/playlists/3JzP27oTtyrqnyufjLKrKj/t...'\n",
       "  offset = 100\n",
       "  previous = 'https://api.spotify.com/v1/playlists/3JzP27oTtyrqnyufjLKr...'\n",
       "  total = 1375"
      ]
     },
     "execution_count": 62,
     "metadata": {},
     "output_type": "execute_result"
    }
   ],
   "source": [
    "spotify.next(playlistTracks)"
   ]
  },
  {
   "cell_type": "code",
   "execution_count": 47,
   "metadata": {},
   "outputs": [
    {
     "data": {
      "text/plain": [
       "AudioAnalysis with fields:\n",
       "  bars = [160 x TimeInterval(confidence, duration, start)]\n",
       "  beats = [639 x TimeInterval(confidence, duration, start)]\n",
       "  meta = {'analysis_time', 'analyzer_version', 'detailed_status', ...}\n",
       "  sections = [5 x Section(confidence, duration, key, key_confidence, ...)]\n",
       "  segments = [893 x Segment(confidence, duration, loudness_end, ...)]\n",
       "  tatums = [1278 x TimeInterval(confidence, duration, start)]\n",
       "  track = {'analysis_channels', 'analysis_sample_rate', ...}"
      ]
     },
     "execution_count": 47,
     "metadata": {},
     "output_type": "execute_result"
    }
   ],
   "source": [
    "spotify.track_audio_analysis(playlistTracks[0].track.id)"
   ]
  },
  {
   "cell_type": "code",
   "execution_count": 48,
   "metadata": {},
   "outputs": [
    {
     "data": {
      "text/plain": [
       "{'num_samples': 6098148,\n",
       " 'duration': 276.56,\n",
       " 'sample_md5': '',\n",
       " 'offset_seconds': 0,\n",
       " 'window_seconds': 0,\n",
       " 'analysis_sample_rate': 22050,\n",
       " 'analysis_channels': 1,\n",
       " 'end_of_fade_in': 0.26694,\n",
       " 'start_of_fade_out': 267.1688,\n",
       " 'loudness': -4.877,\n",
       " 'tempo': 140.015,\n",
       " 'tempo_confidence': 0.392,\n",
       " 'time_signature': 4,\n",
       " 'time_signature_confidence': 0.342,\n",
       " 'key': 1,\n",
       " 'key_confidence': 0.952,\n",
       " 'mode': 1,\n",
       " 'mode_confidence': 0.822,\n",
       " 'codestring': 'eJxdmgu27KoNRKfSQzB_mP_EsnfhvqdfslaSC8dtg1QqlQT1mWeX05_P8-m1rHrmrp865mefvvsqq3163_yt9qf0Oj9jzU-9v-Jv-8xPH7vXw38_pdTnc8p5nqfO8imtd369xnl2W5_S-QzD0p7OS_jY_pSxVm3PeD7ljMpfJx_tD0t4Nq_aq_TZzvOpdfH6sxsv2p86a_-UvU9bvXzqLjMj_rE_rbTpVkafrOLT6uwOTzvVv_Yx3-H0r5Ov3J36Xr7Uf7ba2cf7113Ppzd218cpTxnbbbM7XsTSHv64_Gyfq_Dz8el7ZusFg_LZUXb_rNVqW2XWz2jLhxeW7WxujKe_hmnYaUyMerfOfz7j-Nk5Rytr9M98cIefPWeOD4Z4riUqq5l99j9LzDGfH0vMuffrudL4696_Ll-FNfz53FmGoz18nb92DJ6t14cVLlb--vkUhrwBZx8e7gdMVD6kJ-vpLH3PZ382a1m94UQ-y44fHIAVNG_d2bsYqby0ft2-6vicFhu_bj9dEHzdfubvZg8A_JSnPWvuOVjOAxgBSnkGPnfccBCvH2U-YzAefJh9tFYGT5Znd01WeN_YQvnhY2PgslkwNDY72LBsnh6tMV6-v5e1ZumO95OvPGdPPPUBB4EamwH3ALQ2AL723KOscxizQ5zyCKDCC-q-Jgf4ZbGX9uxv3OF7xqPNHzSyHt735yIQy_v-fFT4Z_1xUukJk39eYh-8j-g7bQ5WCkzGF5TlODY2ABo793Njx40DVG2XNw0Og5t14xvGLn9hhiZ-yyzHiMWLq_lngye-wzoMDZ61m1RQeY6f8LaFU-Y5vH2VuPPh_85YfH4ZMmB0j4cxv1gs4LNmaw2Tsp0lnVSwh6EPX9jGCePWW6lsfydSeCORtB8curVPNT6eOfnCXsYo8bEYOjZA-NU6rQlCA6S20sMjUCYRMWvda66XvYA1PtpY378bIqyF3cIV5bBvMbdx1ujSW5H9gFLdz1rSnejn1YUnzqeGLNcEDrODjqqFoJHG9vkf-PAIWpizdmzqwvxAg5qADb9vHfTsyor4Pd9rkLTokGGqG9nCu2K6BnC0A96vUFTbo_P7btSC1vVUos8xz7dWwTkr_vhV0AOGiWv-TMiIiSrTDOOuB0J4D7-x3KmxCQnehW8ZC8azMc-YjtfD5xrhJrbZDkmhSoSLDTkcvLSNRUwWvUrQBIv4HOvWMM6sD6B68BW2cbNzipruODTSidy9NN4RO_x-rQNsGLOLj4bgRSabkMmphJX4_rTnCVf2AXuYRB4yA7sjkEhODIkJbSX947UW6oCAWI_2MyVl980RFA7jABZ-wK4Wu2_hDnLPhChwfqtJJmyXHx6-F2oooIVoh8uIGqy9Wc6UVRiXBNfBYECAsfuFWYphNxmbYHh_n8KXcagT--HQxdDtQpML5Pj67nbFLu7k1yGW4do7uYtXu3nYh-VsFk8Ai_xOgDx5_PQY_zlQMG8fBk4Hb4Mg6DpZkzYnsBgpWGd2ghKoEPokBaw5_HU38FqogM0CqaZ1l5tx3wRK5ftL52kMwEBCadDndIxrl98HcO94y8NtXyj6eyOxbYn_OgPzoAGM7CKPwpTto3EejffUJdi6KPugfUjsOJSxzsKi_B1s9MeE1iTJZmYrYfFjWur-uXTjala2-mQcKEK-LGM6NpCwXiNsC7KiuhusdVBUTxGE_6y11QXV1auiYImliog1ceXB3PK5WYfdgpB1JGz1GxpCZ5Xik66-KYggWkAntHj-eRJziJxgmax2NpBQ7EksIKnxZYTONM9ec0qbRMTTf9zRwwRrmwd4lrERpTtqAexwfiId3uFtLnAZK70ZOdnQXQahfKB9n1dsmIWP-EdokSH5fYeg_eGWp_i5NE8WxKxAfRs2iCMcYaRgziFzOsYwyKZuNoSGWauRBuuCepYVEYG1-bXWG2_ga23kDGOxxDpAa1PWlGB9IPOWWWGUYOkxLUzMwcQMkyAKME5jrOJcCBB4E3f7ppkfzEUmGExc0YmUIi09MrZECSEeEhwvCFUwxk4m1iG3vWNlzZBrtEeHM6ZRLr7ImBM2BAlgOeZXfL5KVAVP7G_04sdYjfgUNjAX3-B1pD2FFcGBGjAtI0oq7MJ7gh68SZAg3_hHuVmNjdZ8xwiGv8eQacjkopPtsrZNmieNRMS4XRMSCWS-Bt1D--2QS8aP20X6PP8Zi56YZ3WfJ0jND-o4Ivqj1fb9YG3ZyhMZE4eMkOatdghiZMtirL1JbCfKg7F4OsOVI_OJghJuLGCoMRQ-siwJCWZVAz0vWAEkhgsXTbhtGdeqdxNRhJBiPpoUyFI2RF6YJSUDtocony1wUvsvozg5XJLSdox7hDfZb0bS6-JrXTTXrE11a55ggg3Az6kQ4o8y726HmSDoQekyJqduzYsvZOWZAgNzggXZDYhcayHXh_tP2QCc0TuytLEeNKr73ODCzaJvdFXlRxUQ--Abccyqh1yKD7B7SpQnsU8GZzXR_3wJ82wyw7wVQNI6ag3tpk0rogl6NMFG8gNUfJsKh-BDSGHaRzEE4v2GyVwqYqyiJ3yY7lZAIgPWUWcUhj31Adtcp4zPuvK8m9uLCSQ5dgoM0MfPm3qUreJM_kSlEV8qaQ4KFiOpeAxEwBOjyQzKNWQHaWVFMJPBMWSJFNSZ6GsrzGMxaWCDPozLGiwurSnZ-aoyy_KFFyuINob7X2RiIUCWvAJ7AJ-mGLnyOJFYXG_kb6DhFzGEokZI4QX3f5zF9R3xpPyJwiXuAB-fJ8yCLMQ9kDr4-EkFCZKGhtjRt4gIStoUFkVfIghJpFaQeg7j2Bpg9TuBAberTtHq7NgkoDIgUfNkM-zBjNS8BunFpFAtzYoKZ_eeorncdLYjZq8xUrWkWv8zxh7x7V3sMX3oy8sqzQ-PH9oCAazUhgRB2ilVRXTkrT9AgKMQKZjsqBBCaCp3v9408MaRpYfWt5Nyto_ulsoZFoBq2dC-ZC46VIjE0_0MNfVJ2RjvayD8ZFWdQNYsYFttWSNMC9AEQTL8EwMRSegz6-LkPQxEEDE0bv8MdBIafwYi1f7LOoKbmmbNr0Eu5e_nFz0nipOEbDjx_q5IEB0PuLOw17_v7x8fMFECD4Kgi3N0r_XhpNrhHQbpk-1XhZKtAP2N-NUz_OXMOBQVUK0HUWs69G4fLmSsA3-2H434t_2tl2_aF6YnkpHlwiUk8o9K6N92u2rw6N-f7R55Dl7SbhajZPdLzajblNXPo0MpNBUSx3ZE0YNUv8_G2suJcDNya6k3Ppb1JUEx1q0nHnsDLJNsbD3thJEopyCq7gp181QLrcv8lkP8syv4AmEdySbIuAAlBfbzXAG0svAhXoHMEbqOrx5E5ZNAih8dYeGbVPIw5VDC5ZtVmDBr_5pj6d6uN0_06XNV383jeSKyDu8WFPGzbnvmphJYveSJq_T0amrrKL2qQDhpFqLJIr21ZLVj8yS0iEmoW5QwkRbK3EmH3Z7PdTwWpfY7TqRY2PZaTDFM3C6KAjmbLSWuf6Jgin2iouRQUqoCfWkxTSPITVO2MkpEXtJ6KhImWv3KyugTu1QADhjBaK60fGVdenn-JLru1XlUYUyIH6LnnBN7lCg9S1a2o6_Vol-tVLVgSWU2RT1a6LzdiNiYOL8Tt6tB2PIzx-IHc5pws_uhGq_GE4WGu0eU9OhNy7dMhBqoonBgWh5z39ilnB82VkgYdtYIrnSm7KyFpDH9BLiufAkxDTYUmvbabma3xsjW9iuciJYTN-0VcdcXfJpuXoTj1ha3_pPBYtFz4h8m1FRAluCwxFGS3xDBTOiWxxlBecN8aJ-aLPcSwRHq9epD5GBZqczqLQBtMdTYsKbvbaIkCIrjNL4FLn9xwt7PlaAzwRb1lVgoEm3aKGoJKu9BEeBPmh5mQjZut9WgMHMCVKagyyaPQtf2Vb1aMRRn2cXEsnTZVnVhAiCoCXkA6Swo4VrDhz8j8HoamOmQGT4ahImUvMrbyZQty0eeLyzf0t4e8ZO-kC3Pemw63tZIE2nTDrZ_Gq-OKfY-mOi3D3mFDOO_5F0DLe1kB5GwFk8tygzPYs7afSBSTJW6kweY-OZvhbGevU2NW3e0NFu73UBNQIXYl93XmBjRTyqracemX8r0tk3jhMy-UoL0jCPPrwRarnx-izuznJtAlduTpwa0vHWpUXn4rR2ewKQtMu-t17LS6DzLWEqRlomVlg6O4YtO7H-53rrNiaj0SMNi57dtP8YThMZTfSLNzftEu13iqwf-Gf3YTvw1euTfZagn3eojE_wwFHl8zV-G6gkWWHCBJMEAQ_ab9UFdgq9HBU57DGzF39TyVZmEfCZEVDVxDLu6vd5cs-zDu5Wu6IqUIvRXvpvWKABEmyfN96sWSaRS8nEiEjS4TUz2dEOv3GI7TqQsPEpMvdDHBZJt2VpShFj5XRznOKBHI_7g2Kqw_5i0T3PNj0l7eqTbkgsi9CNRkVKHjUY7_DmG0cZXdjEx-z_dBPWnyc9LrIjmZege5RjlUcLQ_SSuwyZq05IW7ZtZa8yR9uit-tJ1H7ewglpVmAZf5GRgCjt6OPC8VPCF6bjHJ7ecMQjHKynxwYXYiIZk09hnC5i3tSEqCdRM3PLvHypH-p5_Jhyt9v-YcBjHcb6Q0oYjwlPKXunglPGVnpa4Z-XYo_7WuEyYKppipc98duToh_qOBxQn47YsSa08sjJR67ctUbPN2yfpqu1HVWCrMzhddrk8fZmhMXGq1sojOQCK5i8XGkkd84AJ2XSk83lVr6q23PZJ5F1LdXd1Kpkei5nkxr4NhIBQshgRppbjVE4eguBpA926iBT9OPFqETuL4dUo1av9-3juQc_z0mnN2U1JjykJS1ZgIohCiWSlCoav9CBnCNMZpRqujBNmhOoPV2q_L1n0dGDeTj4ZpaRUnZGukXdoareSIws0GHLH7gETa-5vtyW6xcOSWyZSVK-cQoWGeS2ax-wfMYv06J76-Y5o2Ss9mqdsM_3L24M5GYuWHwzOaNu_WkkRfLXtW00qgNoNyefcrUTsvvloKSzmvgfr__LRjJhVIKC0XLkV0avDU-KWmUMMNtfKSnKZ5woLikwC2BOyqNvYvBnhTLztS_J3UtaKuk1VPmzOqtc9abE7-thfMybSP8SmLsGJKI1Unh5em3QvNVoPlBzzp9SRw7aVzopSRZAhfz0aW218ibAnZle7h0nfhL6ucOW1gFbxQqq75bOZP5-4ZwyZCL5WhOtbUHcRtqJUtegQdp4fqlQDwV0yDttcHdbvgWLPL6DNUPeKLn2LlHwluvTyIktgYueg6I8XVdL9lxdtEcy3UrU9zsS5sscKyzWv86eIloS9ozp_Msl-ev9p7TD-P0W0I0J_Mskub0MD-imadEeE3q3Y6GbijN_GaY5Lv0mgSE_7Xrq4vezw044Mvdk69cOODA3JMZuJaCSSuVWuS82FCytpwlgA71y5eGmwqqt2_2t93M-kjYkyengqD7y9j2r32bXnOkXCmuzv7mYqZYIF5s7dkHklkc0ydR3M9a__cZ58df2nAZL64R6kzRF5udfbAiHDNkNj5yDCXieVYEy4FTweSswTjtj77YHlKKoG8r2_P2kWRzsdTRICQzutTFxE-WQqUqxzuYKsvMyj595beFusy4lQKZq0hAahsuvJ6mFw9vSs-tN6Y-I2V769txI--I3yU3PA-hflp4rBH-ZM6P2a-FzV_WfiE5HtdZgtKXlIcJssKKWjyDr9TwCNkokIIOqT4e0bTxWif7ZSLxOR3AWHbRl75GVeEyoenCbTULYmkUDhT5T9yT2Ea_NlX-WksXoQPXKnu4_mth-eNk3uLFyQQpg9X1kXYLbvPCVhYtx05VlhbJxu6-2OpsI56a-m-p4tL72qnHBfKzRIVh8p4npOQ5zYufI0FXHeGChvttc-O1cIbLmHOno8fe8Y2M6xHeFE2nLxAdzxqU8k958P6lOugnp94C2E_i0D9_AXty_7r9VlzyntHZgCPD3eIIoEvza3j24Jcfs9r82rt3B-bS6alP6oGCjCzqyd-e9BkA0OtlAC6y1l-pF-S20FgXi2ZTV-UVyf3ED4E6X1iSZXtPCG7VeHGRELq32z8mjyNN0MFy9DBYL9KfesmYkkwKKAO7mFdo8niSRvUBwndPiyXvaIyImUfZsQ6egdJ3buFOwRke3VjjcjskcTCRO3mzsFbcYymmcLOUdlIhrdjkj6LowFIPkIiXzcmbg3kyMrI4tyr8XTiHx8OJGTGxAylgW_JxwjZG3qb5nYKVcpuvgTH_XQLzH-eONoOfGWG6AcSnXCXE9ck-wVZdVWTQ9x1ON9lJq2yg9x1HIbwUJy2N2o5Ur05oWTodvgnlav5FIB5-bLiYU9yJk-kRsGgHaFDBknZdqTVPlAQSVM_MjI2WsE-xq54iRWylefzxVOrCXq-0qwGQNOteKrIIRGiRp_uQaDMBM5bmklzF3ovYlARuw955bMqFyWF7y8q-HE7TTg-m6_5uMFH105PTaJxdJrvnTds9Yru_-6BPXeVNpYwcZXJoJSFLGx59LSf8YPD0FqnENqV4iQHUA2BfNTzrdDZHvZ_qbR8ki_AUiNzr9aWElQa3T-FSJprdbI-rDJ8hqKbefbLH7ZpObygskcFxLqH9uoJQeC9kj0Zb2VgO3MkotBtf2Tbh7QOZEj539art5e1s140-ueNcrfjsGIY2pv9-4fhdSjhqq3mXX94DlmrWlrBxF9ZCL3HC7Yqy3MmtrgHsksjVwtJn_UMhP91h3e0DLy6y0WLOSfEhPOV_6xvpOv5DLEtTq84ETKiX99OSZSbC4ZoMq3NdWC12OQaD0TaU6QfHIVkYlUCzc-yJROXD34jY-azjh5xDPreCGt8dtIsCSBU98W2dtIYOJ82XXmwlXzMtLtf8l0TtzzSzsv1rzehLv5Cy4YGd-DjdrMeiczaXx7AcTjW5vcZ_5C3fbJ88vpLbVDDkVrUktL7XA7M2Hsdu8z2Lip8Vtrb25Wc3oDsKVauMrEe425Cfcr_uq9kfSTFdu4KfqL4zb-jr9UJkz89_yLiXvaaYZ79EGb_xV_tc3_ij_z53_EHxNpcwvj9LTa7XIrd5rVO8zT04D-J3f4h_Bx0VRnQr-lz31Re_IbLyr9niR6GdIq2GuWdqucEGHHy1xAyZfkUoRDZLmO66k43nMkf9JTYVyFPXP779m3j_sWzvXec_ornJl4j9im13zuRcvvGVsA1etLfOYQkwkJ4V-dvGae-J6i3mPX2lM9YPrtNVbs0VMrGPng8r4kxcItnD3ZQ57lXMSDpOrRHxPjfvc9SGJC1vIWqxe5Z64-Bow4cOfmY01fgUw77EsRD1eZmeSGlx_7LRb-klxfV5mlGZBrwikW_k7ra09t8FeAeJ8y92XfAkQt0f9rntP_Tui9OsbMt7d1Tx3hNOHx75TVy4rfJgGh73XYEaUf89geYCLC3qYbRPQ0J94LMPYaeia-jSovc-785paX38NpmDLOT5Qu9cnIZYjXIDp7pBgwVgeSAGuP9Ne9rsiUBsErPffm9NNxqeM9sRC2PjBf9tAgOxNf538NMuZtVf0ZJMIdR9ql1SBR5THILrkOP_bbmdIgIntEdv_gZaQV_oOXccbfd6M8R5rhf238Os5fb8ojPxKD9PDXm0qmeH56U97k7PsXQ_Mq8T-TzSjxe4gdiNzrQn-n2ExcofTFkLeWvNB4vNmYW7m5N-H9nSc3aOps9yQ596F6Ptv_zrh0vHsMTfmIZlde17cq85wMBEQXeds2Wx3veRY_KXrWP9ijKV6tWY5zMR0jPVdYWbnN_wECRtRZ',\n",
       " 'code_version': 3.15,\n",
       " 'echoprintstring': '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',\n",
       " 'echoprint_version': 4.12,\n",
       " 'synchstring': 'eJylWQuW3ToK3IqXID767X9jI6pA192dZHrOnLz4-doy4lMUoKi23h57tuynrzUe1UfWoxY3Ko92XP057-OJ16uGe8dbq5-Ga8Pi8RLCD7VWvuTEyo57w0qplZCTCtwPrd5q7Xs_bC857y3su5zc8W6hP-SMl8n-Ul5ecrRs1PrQXqLkh-uuHCn9yyHh7fn3lW85q3Tr5Y33SmoOP6Scu9JL27tLf-lw1e5lyP2w14ftIyquM5_HddZ1fn0y8GSlgXHtX5Vvtd5L8htg_rp_e94hdr48_zWCfp0walmFzyte3mv3VYYrPlmPVyz8ytQyX_OTKyeN8pdjrdQW7CIvmOH5EXs-j__4-cq3XtGJV0dUxyv5Ij8t1d_d3J__XiM_1v9ezv_06h9P_k85vzfwwttfobG_wJIAZhD5hGCbCdp4u-Per7SZPBnXVbnQ83mEXgtgxTPnW_eXevpKhFZi39z4Nv8NiW98-M7ub667Ky-vflPAvu7y0-f2cqN_lfZfA_cTcv-A4u_f_nGl_yni_8CD_Ui0K-eXmitQwXS2uI90nojyAiMVLTtY6DyMm_lCF_mBr0BZeQUt-AacPBkpnvwQQuh-1ltA0UdWEO9FRN-kURSlaUmrAk0TTqcQ0mYS-6e2Fga4-AN-f9Xl9nLXz5XXh_4C4at-feLyDfx_Y4Y_vv0Wvnexk9f6WXVBwuTwLavYNbaXA1dcB6tM-1So40Z5twqzim9dZVTWeKoaa7zWKJwzX_Czsug2V1p1Wb52X1A7C5OWaWQhe63xj42fla1C85amRYP6KpT96xqHRf0lbeLJjcXtFdsLEuX2P-y4X9rqS1v7Crav-if-petjzddsZ-n5Y1_-RmAQ2Qed7nwOMeOPxO16oPV6kDjzrDqGxGf9rutZGSaFxVfS4nv85O3Guvg5ziqLOnHkYBeP9chto4hQEvE5kKK02HQ8vB5RsTm_DbELX0zodoQc5aDfwMd-7rBA4snZ32kz33feHhWDmLjA8Od8h_3jYu2JPUWpnkI1uMzxKXAyqMlRQvlphw4zNYG2CnWCTOC9nQaDFIyqAFsWMuOrDaXCarwx3IQCJ1qD8jpFd365zh9DJCEP0kPMQBxhBUDS87sT2_OXrurQjnzZoRq2p6hFhEQADZZCnalpqBDLNIR-NVge2s_yu1g-DyXim-DPRbHOgAeq9Rm1agikADQyiEH88PzpdJahG3DQsQTEKzIWi4SIOX4cGTUmWu5TSMhdKV4rIhJoDpHhvUirkBxilWoQMT227fQWgC2dEY_AdVw9jV_lB0A44-T8PVYiZoceCzsg0BqPF7Rz6jXjshA3SpdKaKA3w0olCZODX8dDifAvOs-RWBCnBruQDyeQ_SGMe4aRySsN8GINZt7DXYLU30xjJAeN0p5cgUCfHSYcwh9j0RLkb0-ejj0Q9Ib9MtVZgVGEo7xUgXn2US726ZBj1F5GVXYlpBUZfjY-O7dw8ag1xO9OH84kqB6iJ8tG9RDITi2GksjjxU0I94XQ3KOCs-PB43m4sQt9WthkJ8GAgwR69B5MTORGJ4DUwLw76SgiBDcN1NmsMlIFDskHBWYnUiDxKDowPQkHK48n1HJGPDqyEy3aca1V48WSGQ9BgU5itgg6syJUV7QDVQLxfLFuhvs882JnXtuxA3AHo8_4AWKTUEMarAiAka5G8EvkCuMPuCryO-r8TsCJEpMeMpycMEjl6CAWfOKbqzZ4DxTZsibs8M5spAzrpFUWtFV8IkhpXBUMbkkdgoSGR2lSpO6oxikpmPM5-dYhATpOkFMQS3x2VmxFlNB1Iptj7pWrEVJg1zRmocPBwUJjMQJpPbLByXSRr5rE2SkIuAoWN-wmbRZ_KdIcKzbCM4B25DgC7ixJ4a_zdKGyCTkn8vP4czLRjOA9lgxELMzz0HvF10FXK14KCxXPBNZiZnaQXnwR7HDyFBqyalfmEdpezNCz-d5ArLM6FS-BihCAdHiUXHhOE5oonUcpUL6R2GO3LGqgrsWMXXXgF0oMBtdSByaDOmjk1JhDAidhROoTDWOMvT_QUqkDViGz7OwrF1yCk5einTs3aNYChxNW9Y6AZWcCqdWLlGBZ5iLXlRaz8wgWRyqPKsoRfOY9-iowc_VMDS2EtVtelCUYFSnrB5DCgQ0_GvMbpLCDV8izxtv5JG8omGXgmw-LIBA9S24Pehe0oQMl4MSbjc5O2kOUVmGCcV9PdpoDMoMqsSCsi3I3qApPIJL0R6Cx0rZHAik7vh6CWEuOou1JNZnN6nFYPJcJki8ir9RePm2GaIf9DghYXkXZRmvpSMY_ctq4zoacTUsnO2ZLa5A5TqkZHgMVudzuMJTGUWlsJmzRxNDcB7F7NjMDWdNp27xda2vwlbSexRVh2Og8NtSNXdBaWH6zJG_Z_B9cMl1PI50Unk0QstDooWhInKaKTojdeIj-gI3LYOYbxs-43-TxbDJRInrOOGS3zh4Eux0DnU18kFg1pAtBcvoH4j2R8_DMi9wG8oqrrA5FqskSuP1OVBikMgu0wUuwfD0fgllQbr2aTJT0zdZbPRd20L6tDGNPPMwsmaTsRSaOLJSKmWcXqdnCSVZPRB_-zQasL_h457hl9Igy7TsmGgaH-tbU4mynpRrGgSaR_A6FpbFrB3nAKZtDhoDkOkHJJkc47czsVon-le0jA8qpFIV3V8WyhN7MRtWyFV6cVTXaAYs5ja-qGebiIGCcAqAOWXXPOyXPpyY4SNKGZNUsCiMHLGGqeYJlFtfxVEhaqmjXEH2PxAc1muQ1CI1-YcSMRAuZw3YmJRXo2ZUXOWgVKnsKOu2OGyjxLuxA0HcZAalFEBAByK8LPEsPgO84D4GPo09HX9h5EtDKTg8q7eBtZzKW3RwlsihZsaIRI_oiRGPxUHRTAn97Rg8qo2ooRwSGtf7_Ga4mYrbHBeYAfNCObPi855Cc0MzRC4PEoo08dIiDrqAVzeaS5yNE2pi39uX0XXSuI2Me_4i4b4e0sq7x4DAZYYBOMvjRxRL4m2xxIrLJmmwVmvN5Z9psvLhVDqGDQjMD5TknNYIyOA6HMMophQONIBlXgXlgUuo9t83Ss6LcCr2rPJCZ0AczDHk2bFhMjnuKEzUrJ4D0ULZLqFk89OsEFr7vaNE6vBKDC4ywWR7iKY1FgR7JLsqBKo9KhBOAedb5rDOUbuFNtTx0Ya1YzIPMMTA6hsLpbFm4Aw8rUPfBESM75MkhYnNISK6UtLySPFlBc7whofQk81va6Vmnk5lQLahL6BI0Pp9TM_5yBgRT40jCmawNFuQWxTa8wtALh4gZeeDK0Y9dz37q2JCDbWPIc-CI8qAMFEA6Pl7fVMiQVmMlx5LzxiCM9T4THk-0cLphc0ah5eQB8ywAE3HOM7JMOmLVagaUmmoC_CgyAjto--KgngcqPPXjEXPOsDxqHuyvqeK6onvUQjbBPBLi6Vaek3LadMkyyglgZoyBzYZTg-ycG-vywPht2EdwXMpT_vHcs1BZPM3JqZr8iM0L9-TbnTQDYtiPV7ZP9t8dOX-nEzoQGAkUtKwuCxMbuIunLJjuV_V7kdFjMhMHecoTJ8L6pdVYBpncjjQnhpV0uYW9AylhsJRZTmHZHda_lHehtZ5dBMnM6a15s0jUbufMpgD13NLnOeVh0Uz_fopkjhNbs5DctqbTiVonODeYLGtIOfsPE5rcAA==',\n",
       " 'synch_version': 1.0,\n",
       " 'rhythmstring': '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',\n",
       " 'rhythm_version': 1.0}"
      ]
     },
     "execution_count": 48,
     "metadata": {},
     "output_type": "execute_result"
    }
   ],
   "source": [
    "spotify.track_audio_analysis(playlistTracks[0].track.id).track"
   ]
  },
  {
   "cell_type": "code",
   "execution_count": 49,
   "metadata": {},
   "outputs": [
    {
     "data": {
      "text/plain": [
       "AudioFeatures with fields:\n",
       "  acousticness = 0.00356\n",
       "  analysis_url = 'https://api.spotify.com/v1/audio-analysis/3nPpCn5nYTM...'\n",
       "  danceability = 0.528\n",
       "  duration_ms = 276560\n",
       "  energy = 0.775\n",
       "  id = '3nPpCn5nYTMg0ajmzv57Jq'\n",
       "  instrumentalness = 0.542\n",
       "  key = 1\n",
       "  liveness = 0.778\n",
       "  loudness = -4.877\n",
       "  mode = 1\n",
       "  speechiness = 0.0285\n",
       "  tempo = 140.015\n",
       "  time_signature = 4\n",
       "  track_href = 'https://api.spotify.com/v1/tracks/3nPpCn5nYTMg0ajmzv57Jq'\n",
       "  type = 'audio_features'\n",
       "  uri = 'spotify:track:3nPpCn5nYTMg0ajmzv57Jq'\n",
       "  valence = 0.261"
      ]
     },
     "execution_count": 49,
     "metadata": {},
     "output_type": "execute_result"
    }
   ],
   "source": [
    "spotify.track_audio_features(playlistTracks[0].track.id)"
   ]
  },
  {
   "cell_type": "code",
   "execution_count": 1,
   "metadata": {},
   "outputs": [
    {
     "ename": "NameError",
     "evalue": "name 'spotify' is not defined",
     "output_type": "error",
     "traceback": [
      "\u001b[1;31m---------------------------------------------------------------------------\u001b[0m",
      "\u001b[1;31mNameError\u001b[0m                                 Traceback (most recent call last)",
      "Input \u001b[1;32mIn [1]\u001b[0m, in \u001b[0;36m<cell line: 1>\u001b[1;34m()\u001b[0m\n\u001b[1;32m----> 1\u001b[0m \u001b[43mspotify\u001b[49m\u001b[38;5;241m.\u001b[39mtrack(playlistTracks[\u001b[38;5;241m0\u001b[39m]\u001b[38;5;241m.\u001b[39mtrack\u001b[38;5;241m.\u001b[39mid)\n",
      "\u001b[1;31mNameError\u001b[0m: name 'spotify' is not defined"
     ]
    }
   ],
   "source": [
    "spotify.track(playlistTracks[0].track.id)    "
   ]
  },
  {
   "cell_type": "code",
   "execution_count": null,
   "metadata": {},
   "outputs": [],
   "source": []
  }
 ],
 "metadata": {
  "kernelspec": {
   "display_name": "spotifyPlay",
   "language": "python",
   "name": "spotifyplay"
  },
  "language_info": {
   "codemirror_mode": {
    "name": "ipython",
    "version": 3
   },
   "file_extension": ".py",
   "mimetype": "text/x-python",
   "name": "python",
   "nbconvert_exporter": "python",
   "pygments_lexer": "ipython3",
   "version": "3.10.4"
  }
 },
 "nbformat": 4,
 "nbformat_minor": 2
}
